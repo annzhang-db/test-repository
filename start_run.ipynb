{
 "cells": [
  {
   "cell_type": "code",
   "execution_count": 0,
   "metadata": {
    "application/vnd.databricks.v1+cell": {
     "cellMetadata": {
      "byteLimit": 2048000,
      "rowLimit": 10000
     },
     "inputWidgets": {},
     "nuid": "04061bb7-8700-4dae-a368-d7e25b8d6630",
     "showTitle": false,
     "title": ""
    }
   },
   "outputs": [
    {
     "output_type": "display_data",
     "data": {
      "text/html": [
       "<style scoped>\n",
       "  .ansiout {\n",
       "    display: block;\n",
       "    unicode-bidi: embed;\n",
       "    white-space: pre-wrap;\n",
       "    word-wrap: break-word;\n",
       "    word-break: break-all;\n",
       "    font-family: \"Menlo\", \"Monaco\", \"Consolas\", \"Ubuntu Mono\", \"Source Code Pro\", monospace;\n",
       "    font-size: 13px;\n",
       "    color: #555;\n",
       "    margin-left: 4px;\n",
       "    line-height: 19px;\n",
       "  }\n",
       "</style>\n",
       "<div class=\"ansiout\">Python interpreter will be restarted.\n",
       "Collecting mlflow==2.9.2\n",
       "  Using cached mlflow-2.9.2-py3-none-any.whl (19.1 MB)\n",
       "Requirement already satisfied: docker&lt;7,&gt;=4.0.0 in /databricks/python3/lib/python3.8/site-packages (from mlflow==2.9.2) (6.1.3)\n",
       "Requirement already satisfied: gitpython&lt;4,&gt;=2.1.0 in /databricks/python3/lib/python3.8/site-packages (from mlflow==2.9.2) (3.1.40)\n",
       "Requirement already satisfied: querystring-parser&lt;2 in /databricks/python3/lib/python3.8/site-packages (from mlflow==2.9.2) (1.2.4)\n",
       "Requirement already satisfied: sqlalchemy&lt;3,&gt;=1.4.0 in /databricks/python3/lib/python3.8/site-packages (from mlflow==2.9.2) (1.4.50)\n",
       "Requirement already satisfied: protobuf&lt;5,&gt;=3.12.0 in /databricks/python3/lib/python3.8/site-packages (from mlflow==2.9.2) (3.17.2)\n",
       "Requirement already satisfied: pyarrow&lt;15,&gt;=4.0.0 in /databricks/python3/lib/python3.8/site-packages (from mlflow==2.9.2) (4.0.0)\n",
       "Requirement already satisfied: pyyaml&lt;7,&gt;=5.1 in /databricks/python3/lib/python3.8/site-packages (from mlflow==2.9.2) (6.0.1)\n",
       "Requirement already satisfied: pandas&lt;3 in /databricks/python3/lib/python3.8/site-packages (from mlflow==2.9.2) (2.0.3)\n",
       "Requirement already satisfied: scipy&lt;2 in /databricks/python3/lib/python3.8/site-packages (from mlflow==2.9.2) (1.6.2)\n",
       "Requirement already satisfied: entrypoints&lt;1 in /databricks/python3/lib/python3.8/site-packages (from mlflow==2.9.2) (0.3)\n",
       "Requirement already satisfied: alembic!=1.10.0,&lt;2 in /databricks/python3/lib/python3.8/site-packages (from mlflow==2.9.2) (1.13.0)\n",
       "Requirement already satisfied: scikit-learn&lt;2 in /databricks/python3/lib/python3.8/site-packages (from mlflow==2.9.2) (0.24.1)\n",
       "Requirement already satisfied: pytz&lt;2024 in /databricks/python3/lib/python3.8/site-packages (from mlflow==2.9.2) (2023.3.post1)\n",
       "Requirement already satisfied: Flask&lt;4 in /databricks/python3/lib/python3.8/site-packages (from mlflow==2.9.2) (3.0.0)\n",
       "Requirement already satisfied: requests&lt;3,&gt;=2.17.3 in /databricks/python3/lib/python3.8/site-packages (from mlflow==2.9.2) (2.31.0)\n",
       "Requirement already satisfied: numpy&lt;2 in /databricks/python3/lib/python3.8/site-packages (from mlflow==2.9.2) (1.22.4)\n",
       "Requirement already satisfied: markdown&lt;4,&gt;=3.3 in /databricks/python3/lib/python3.8/site-packages (from mlflow==2.9.2) (3.5.1)\n",
       "Requirement already satisfied: Jinja2&lt;4,&gt;=2.11 in /databricks/python3/lib/python3.8/site-packages (from mlflow==2.9.2) (3.1.2)\n",
       "Requirement already satisfied: packaging&lt;24 in /databricks/python3/lib/python3.8/site-packages (from mlflow==2.9.2) (23.2)\n",
       "Requirement already satisfied: databricks-cli&lt;1,&gt;=0.8.7 in /databricks/python3/lib/python3.8/site-packages (from mlflow==2.9.2) (0.18.0)\n",
       "Requirement already satisfied: matplotlib&lt;4 in /databricks/python3/lib/python3.8/site-packages (from mlflow==2.9.2) (3.7.4)\n",
       "Requirement already satisfied: click&lt;9,&gt;=7.0 in /databricks/python3/lib/python3.8/site-packages (from mlflow==2.9.2) (8.1.7)\n",
       "Requirement already satisfied: sqlparse&lt;1,&gt;=0.4.0 in /databricks/python3/lib/python3.8/site-packages (from mlflow==2.9.2) (0.4.4)\n",
       "Requirement already satisfied: gunicorn&lt;22 in /databricks/python3/lib/python3.8/site-packages (from mlflow==2.9.2) (21.2.0)\n",
       "Requirement already satisfied: importlib-metadata!=4.7.0,&lt;8,&gt;=3.7.0 in /databricks/python3/lib/python3.8/site-packages (from mlflow==2.9.2) (6.8.0)\n",
       "Requirement already satisfied: cloudpickle&lt;4 in /databricks/python3/lib/python3.8/site-packages (from mlflow==2.9.2) (2.2.1)\n",
       "Requirement already satisfied: importlib-resources in /databricks/python3/lib/python3.8/site-packages (from alembic!=1.10.0,&lt;2-&gt;mlflow==2.9.2) (6.1.1)\n",
       "Requirement already satisfied: typing-extensions&gt;=4 in /databricks/python3/lib/python3.8/site-packages (from alembic!=1.10.0,&lt;2-&gt;mlflow==2.9.2) (4.8.0)\n",
       "Requirement already satisfied: Mako in /databricks/python3/lib/python3.8/site-packages (from alembic!=1.10.0,&lt;2-&gt;mlflow==2.9.2) (1.3.0)\n",
       "Requirement already satisfied: six&gt;=1.10.0 in /databricks/python3/lib/python3.8/site-packages (from databricks-cli&lt;1,&gt;=0.8.7-&gt;mlflow==2.9.2) (1.15.0)\n",
       "Requirement already satisfied: pyjwt&gt;=1.7.0 in /databricks/python3/lib/python3.8/site-packages (from databricks-cli&lt;1,&gt;=0.8.7-&gt;mlflow==2.9.2) (2.8.0)\n",
       "Requirement already satisfied: tabulate&gt;=0.7.7 in /databricks/python3/lib/python3.8/site-packages (from databricks-cli&lt;1,&gt;=0.8.7-&gt;mlflow==2.9.2) (0.9.0)\n",
       "Requirement already satisfied: oauthlib&gt;=3.1.0 in /databricks/python3/lib/python3.8/site-packages (from databricks-cli&lt;1,&gt;=0.8.7-&gt;mlflow==2.9.2) (3.2.2)\n",
       "Requirement already satisfied: urllib3&lt;3,&gt;=1.26.7 in /databricks/python3/lib/python3.8/site-packages (from databricks-cli&lt;1,&gt;=0.8.7-&gt;mlflow==2.9.2) (1.26.18)\n",
       "Requirement already satisfied: websocket-client&gt;=0.32.0 in /databricks/python3/lib/python3.8/site-packages (from docker&lt;7,&gt;=4.0.0-&gt;mlflow==2.9.2) (1.6.4)\n",
       "Requirement already satisfied: itsdangerous&gt;=2.1.2 in /databricks/python3/lib/python3.8/site-packages (from Flask&lt;4-&gt;mlflow==2.9.2) (2.1.2)\n",
       "Requirement already satisfied: Werkzeug&gt;=3.0.0 in /databricks/python3/lib/python3.8/site-packages (from Flask&lt;4-&gt;mlflow==2.9.2) (3.0.1)\n",
       "Requirement already satisfied: blinker&gt;=1.6.2 in /databricks/python3/lib/python3.8/site-packages (from Flask&lt;4-&gt;mlflow==2.9.2) (1.7.0)\n",
       "Requirement already satisfied: gitdb&lt;5,&gt;=4.0.1 in /databricks/python3/lib/python3.8/site-packages (from gitpython&lt;4,&gt;=2.1.0-&gt;mlflow==2.9.2) (4.0.11)\n",
       "Requirement already satisfied: smmap&lt;6,&gt;=3.0.1 in /databricks/python3/lib/python3.8/site-packages (from gitdb&lt;5,&gt;=4.0.1-&gt;gitpython&lt;4,&gt;=2.1.0-&gt;mlflow==2.9.2) (5.0.1)\n",
       "Requirement already satisfied: zipp&gt;=0.5 in /databricks/python3/lib/python3.8/site-packages (from importlib-metadata!=4.7.0,&lt;8,&gt;=3.7.0-&gt;mlflow==2.9.2) (3.17.0)\n",
       "Requirement already satisfied: MarkupSafe&gt;=2.0 in /databricks/python3/lib/python3.8/site-packages (from Jinja2&lt;4,&gt;=2.11-&gt;mlflow==2.9.2) (2.1.3)\n",
       "Requirement already satisfied: pyparsing&gt;=2.3.1 in /databricks/python3/lib/python3.8/site-packages (from matplotlib&lt;4-&gt;mlflow==2.9.2) (2.4.7)\n",
       "Requirement already satisfied: cycler&gt;=0.10 in /databricks/python3/lib/python3.8/site-packages (from matplotlib&lt;4-&gt;mlflow==2.9.2) (0.10.0)\n",
       "Requirement already satisfied: python-dateutil&gt;=2.7 in /databricks/python3/lib/python3.8/site-packages (from matplotlib&lt;4-&gt;mlflow==2.9.2) (2.8.2)\n",
       "Requirement already satisfied: pillow&gt;=6.2.0 in /databricks/python3/lib/python3.8/site-packages (from matplotlib&lt;4-&gt;mlflow==2.9.2) (8.2.0)\n",
       "Requirement already satisfied: contourpy&gt;=1.0.1 in /databricks/python3/lib/python3.8/site-packages (from matplotlib&lt;4-&gt;mlflow==2.9.2) (1.1.1)\n",
       "Requirement already satisfied: fonttools&gt;=4.22.0 in /databricks/python3/lib/python3.8/site-packages (from matplotlib&lt;4-&gt;mlflow==2.9.2) (4.46.0)\n",
       "Requirement already satisfied: kiwisolver&gt;=1.0.1 in /databricks/python3/lib/python3.8/site-packages (from matplotlib&lt;4-&gt;mlflow==2.9.2) (1.3.1)\n",
       "Requirement already satisfied: tzdata&gt;=2022.1 in /databricks/python3/lib/python3.8/site-packages (from pandas&lt;3-&gt;mlflow==2.9.2) (2023.3)\n",
       "Requirement already satisfied: certifi&gt;=2017.4.17 in /databricks/python3/lib/python3.8/site-packages (from requests&lt;3,&gt;=2.17.3-&gt;mlflow==2.9.2) (2020.12.5)\n",
       "Requirement already satisfied: charset-normalizer&lt;4,&gt;=2 in /databricks/python3/lib/python3.8/site-packages (from requests&lt;3,&gt;=2.17.3-&gt;mlflow==2.9.2) (3.3.2)\n",
       "Requirement already satisfied: idna&lt;4,&gt;=2.5 in /databricks/python3/lib/python3.8/site-packages (from requests&lt;3,&gt;=2.17.3-&gt;mlflow==2.9.2) (2.10)\n",
       "Requirement already satisfied: joblib&gt;=0.11 in /databricks/python3/lib/python3.8/site-packages (from scikit-learn&lt;2-&gt;mlflow==2.9.2) (1.0.1)\n",
       "Requirement already satisfied: threadpoolctl&gt;=2.0.0 in /databricks/python3/lib/python3.8/site-packages (from scikit-learn&lt;2-&gt;mlflow==2.9.2) (2.1.0)\n",
       "Requirement already satisfied: greenlet!=0.4.17 in /databricks/python3/lib/python3.8/site-packages (from sqlalchemy&lt;3,&gt;=1.4.0-&gt;mlflow==2.9.2) (3.0.1)\n",
       "Installing collected packages: mlflow\n",
       "  Attempting uninstall: mlflow\n",
       "    Found existing installation: mlflow 2.8.1\n",
       "    Not uninstalling mlflow at /databricks/python3/lib/python3.8/site-packages, outside environment /local_disk0/.ephemeral_nfs/envs/pythonEnv-4710ca5e-61b1-4ff5-b75c-626cd70f82fe\n",
       "    Can&#39;t uninstall &#39;mlflow&#39;. No files were found to uninstall.\n",
       "Successfully installed mlflow-2.9.2\n",
       "Python interpreter will be restarted.\n",
       "</div>"
      ]
     },
     "metadata": {
      "application/vnd.databricks.v1+output": {
       "addedWidgets": {},
       "arguments": {},
       "data": "<div class=\"ansiout\">Python interpreter will be restarted.\nCollecting mlflow==2.9.2\n  Using cached mlflow-2.9.2-py3-none-any.whl (19.1 MB)\nRequirement already satisfied: docker&lt;7,&gt;=4.0.0 in /databricks/python3/lib/python3.8/site-packages (from mlflow==2.9.2) (6.1.3)\nRequirement already satisfied: gitpython&lt;4,&gt;=2.1.0 in /databricks/python3/lib/python3.8/site-packages (from mlflow==2.9.2) (3.1.40)\nRequirement already satisfied: querystring-parser&lt;2 in /databricks/python3/lib/python3.8/site-packages (from mlflow==2.9.2) (1.2.4)\nRequirement already satisfied: sqlalchemy&lt;3,&gt;=1.4.0 in /databricks/python3/lib/python3.8/site-packages (from mlflow==2.9.2) (1.4.50)\nRequirement already satisfied: protobuf&lt;5,&gt;=3.12.0 in /databricks/python3/lib/python3.8/site-packages (from mlflow==2.9.2) (3.17.2)\nRequirement already satisfied: pyarrow&lt;15,&gt;=4.0.0 in /databricks/python3/lib/python3.8/site-packages (from mlflow==2.9.2) (4.0.0)\nRequirement already satisfied: pyyaml&lt;7,&gt;=5.1 in /databricks/python3/lib/python3.8/site-packages (from mlflow==2.9.2) (6.0.1)\nRequirement already satisfied: pandas&lt;3 in /databricks/python3/lib/python3.8/site-packages (from mlflow==2.9.2) (2.0.3)\nRequirement already satisfied: scipy&lt;2 in /databricks/python3/lib/python3.8/site-packages (from mlflow==2.9.2) (1.6.2)\nRequirement already satisfied: entrypoints&lt;1 in /databricks/python3/lib/python3.8/site-packages (from mlflow==2.9.2) (0.3)\nRequirement already satisfied: alembic!=1.10.0,&lt;2 in /databricks/python3/lib/python3.8/site-packages (from mlflow==2.9.2) (1.13.0)\nRequirement already satisfied: scikit-learn&lt;2 in /databricks/python3/lib/python3.8/site-packages (from mlflow==2.9.2) (0.24.1)\nRequirement already satisfied: pytz&lt;2024 in /databricks/python3/lib/python3.8/site-packages (from mlflow==2.9.2) (2023.3.post1)\nRequirement already satisfied: Flask&lt;4 in /databricks/python3/lib/python3.8/site-packages (from mlflow==2.9.2) (3.0.0)\nRequirement already satisfied: requests&lt;3,&gt;=2.17.3 in /databricks/python3/lib/python3.8/site-packages (from mlflow==2.9.2) (2.31.0)\nRequirement already satisfied: numpy&lt;2 in /databricks/python3/lib/python3.8/site-packages (from mlflow==2.9.2) (1.22.4)\nRequirement already satisfied: markdown&lt;4,&gt;=3.3 in /databricks/python3/lib/python3.8/site-packages (from mlflow==2.9.2) (3.5.1)\nRequirement already satisfied: Jinja2&lt;4,&gt;=2.11 in /databricks/python3/lib/python3.8/site-packages (from mlflow==2.9.2) (3.1.2)\nRequirement already satisfied: packaging&lt;24 in /databricks/python3/lib/python3.8/site-packages (from mlflow==2.9.2) (23.2)\nRequirement already satisfied: databricks-cli&lt;1,&gt;=0.8.7 in /databricks/python3/lib/python3.8/site-packages (from mlflow==2.9.2) (0.18.0)\nRequirement already satisfied: matplotlib&lt;4 in /databricks/python3/lib/python3.8/site-packages (from mlflow==2.9.2) (3.7.4)\nRequirement already satisfied: click&lt;9,&gt;=7.0 in /databricks/python3/lib/python3.8/site-packages (from mlflow==2.9.2) (8.1.7)\nRequirement already satisfied: sqlparse&lt;1,&gt;=0.4.0 in /databricks/python3/lib/python3.8/site-packages (from mlflow==2.9.2) (0.4.4)\nRequirement already satisfied: gunicorn&lt;22 in /databricks/python3/lib/python3.8/site-packages (from mlflow==2.9.2) (21.2.0)\nRequirement already satisfied: importlib-metadata!=4.7.0,&lt;8,&gt;=3.7.0 in /databricks/python3/lib/python3.8/site-packages (from mlflow==2.9.2) (6.8.0)\nRequirement already satisfied: cloudpickle&lt;4 in /databricks/python3/lib/python3.8/site-packages (from mlflow==2.9.2) (2.2.1)\nRequirement already satisfied: importlib-resources in /databricks/python3/lib/python3.8/site-packages (from alembic!=1.10.0,&lt;2-&gt;mlflow==2.9.2) (6.1.1)\nRequirement already satisfied: typing-extensions&gt;=4 in /databricks/python3/lib/python3.8/site-packages (from alembic!=1.10.0,&lt;2-&gt;mlflow==2.9.2) (4.8.0)\nRequirement already satisfied: Mako in /databricks/python3/lib/python3.8/site-packages (from alembic!=1.10.0,&lt;2-&gt;mlflow==2.9.2) (1.3.0)\nRequirement already satisfied: six&gt;=1.10.0 in /databricks/python3/lib/python3.8/site-packages (from databricks-cli&lt;1,&gt;=0.8.7-&gt;mlflow==2.9.2) (1.15.0)\nRequirement already satisfied: pyjwt&gt;=1.7.0 in /databricks/python3/lib/python3.8/site-packages (from databricks-cli&lt;1,&gt;=0.8.7-&gt;mlflow==2.9.2) (2.8.0)\nRequirement already satisfied: tabulate&gt;=0.7.7 in /databricks/python3/lib/python3.8/site-packages (from databricks-cli&lt;1,&gt;=0.8.7-&gt;mlflow==2.9.2) (0.9.0)\nRequirement already satisfied: oauthlib&gt;=3.1.0 in /databricks/python3/lib/python3.8/site-packages (from databricks-cli&lt;1,&gt;=0.8.7-&gt;mlflow==2.9.2) (3.2.2)\nRequirement already satisfied: urllib3&lt;3,&gt;=1.26.7 in /databricks/python3/lib/python3.8/site-packages (from databricks-cli&lt;1,&gt;=0.8.7-&gt;mlflow==2.9.2) (1.26.18)\nRequirement already satisfied: websocket-client&gt;=0.32.0 in /databricks/python3/lib/python3.8/site-packages (from docker&lt;7,&gt;=4.0.0-&gt;mlflow==2.9.2) (1.6.4)\nRequirement already satisfied: itsdangerous&gt;=2.1.2 in /databricks/python3/lib/python3.8/site-packages (from Flask&lt;4-&gt;mlflow==2.9.2) (2.1.2)\nRequirement already satisfied: Werkzeug&gt;=3.0.0 in /databricks/python3/lib/python3.8/site-packages (from Flask&lt;4-&gt;mlflow==2.9.2) (3.0.1)\nRequirement already satisfied: blinker&gt;=1.6.2 in /databricks/python3/lib/python3.8/site-packages (from Flask&lt;4-&gt;mlflow==2.9.2) (1.7.0)\nRequirement already satisfied: gitdb&lt;5,&gt;=4.0.1 in /databricks/python3/lib/python3.8/site-packages (from gitpython&lt;4,&gt;=2.1.0-&gt;mlflow==2.9.2) (4.0.11)\nRequirement already satisfied: smmap&lt;6,&gt;=3.0.1 in /databricks/python3/lib/python3.8/site-packages (from gitdb&lt;5,&gt;=4.0.1-&gt;gitpython&lt;4,&gt;=2.1.0-&gt;mlflow==2.9.2) (5.0.1)\nRequirement already satisfied: zipp&gt;=0.5 in /databricks/python3/lib/python3.8/site-packages (from importlib-metadata!=4.7.0,&lt;8,&gt;=3.7.0-&gt;mlflow==2.9.2) (3.17.0)\nRequirement already satisfied: MarkupSafe&gt;=2.0 in /databricks/python3/lib/python3.8/site-packages (from Jinja2&lt;4,&gt;=2.11-&gt;mlflow==2.9.2) (2.1.3)\nRequirement already satisfied: pyparsing&gt;=2.3.1 in /databricks/python3/lib/python3.8/site-packages (from matplotlib&lt;4-&gt;mlflow==2.9.2) (2.4.7)\nRequirement already satisfied: cycler&gt;=0.10 in /databricks/python3/lib/python3.8/site-packages (from matplotlib&lt;4-&gt;mlflow==2.9.2) (0.10.0)\nRequirement already satisfied: python-dateutil&gt;=2.7 in /databricks/python3/lib/python3.8/site-packages (from matplotlib&lt;4-&gt;mlflow==2.9.2) (2.8.2)\nRequirement already satisfied: pillow&gt;=6.2.0 in /databricks/python3/lib/python3.8/site-packages (from matplotlib&lt;4-&gt;mlflow==2.9.2) (8.2.0)\nRequirement already satisfied: contourpy&gt;=1.0.1 in /databricks/python3/lib/python3.8/site-packages (from matplotlib&lt;4-&gt;mlflow==2.9.2) (1.1.1)\nRequirement already satisfied: fonttools&gt;=4.22.0 in /databricks/python3/lib/python3.8/site-packages (from matplotlib&lt;4-&gt;mlflow==2.9.2) (4.46.0)\nRequirement already satisfied: kiwisolver&gt;=1.0.1 in /databricks/python3/lib/python3.8/site-packages (from matplotlib&lt;4-&gt;mlflow==2.9.2) (1.3.1)\nRequirement already satisfied: tzdata&gt;=2022.1 in /databricks/python3/lib/python3.8/site-packages (from pandas&lt;3-&gt;mlflow==2.9.2) (2023.3)\nRequirement already satisfied: certifi&gt;=2017.4.17 in /databricks/python3/lib/python3.8/site-packages (from requests&lt;3,&gt;=2.17.3-&gt;mlflow==2.9.2) (2020.12.5)\nRequirement already satisfied: charset-normalizer&lt;4,&gt;=2 in /databricks/python3/lib/python3.8/site-packages (from requests&lt;3,&gt;=2.17.3-&gt;mlflow==2.9.2) (3.3.2)\nRequirement already satisfied: idna&lt;4,&gt;=2.5 in /databricks/python3/lib/python3.8/site-packages (from requests&lt;3,&gt;=2.17.3-&gt;mlflow==2.9.2) (2.10)\nRequirement already satisfied: joblib&gt;=0.11 in /databricks/python3/lib/python3.8/site-packages (from scikit-learn&lt;2-&gt;mlflow==2.9.2) (1.0.1)\nRequirement already satisfied: threadpoolctl&gt;=2.0.0 in /databricks/python3/lib/python3.8/site-packages (from scikit-learn&lt;2-&gt;mlflow==2.9.2) (2.1.0)\nRequirement already satisfied: greenlet!=0.4.17 in /databricks/python3/lib/python3.8/site-packages (from sqlalchemy&lt;3,&gt;=1.4.0-&gt;mlflow==2.9.2) (3.0.1)\nInstalling collected packages: mlflow\n  Attempting uninstall: mlflow\n    Found existing installation: mlflow 2.8.1\n    Not uninstalling mlflow at /databricks/python3/lib/python3.8/site-packages, outside environment /local_disk0/.ephemeral_nfs/envs/pythonEnv-4710ca5e-61b1-4ff5-b75c-626cd70f82fe\n    Can&#39;t uninstall &#39;mlflow&#39;. No files were found to uninstall.\nSuccessfully installed mlflow-2.9.2\nPython interpreter will be restarted.\n</div>",
       "datasetInfos": [],
       "metadata": {},
       "removedWidgets": [],
       "type": "html"
      }
     },
     "output_type": "display_data"
    }
   ],
   "source": [
    "%pip install mlflow==2.9.2"
   ]
  },
  {
   "cell_type": "code",
   "execution_count": 0,
   "metadata": {
    "application/vnd.databricks.v1+cell": {
     "cellMetadata": {
      "byteLimit": 2048000,
      "rowLimit": 10000
     },
     "inputWidgets": {},
     "nuid": "5934baca-560d-4de9-988a-c2f34eff884b",
     "showTitle": false,
     "title": ""
    }
   },
   "outputs": [
    {
     "output_type": "display_data",
     "data": {
      "text/html": [
       "<style scoped>\n",
       "  .ansiout {\n",
       "    display: block;\n",
       "    unicode-bidi: embed;\n",
       "    white-space: pre-wrap;\n",
       "    word-wrap: break-word;\n",
       "    word-break: break-all;\n",
       "    font-family: \"Menlo\", \"Monaco\", \"Consolas\", \"Ubuntu Mono\", \"Source Code Pro\", monospace;\n",
       "    font-size: 13px;\n",
       "    color: #555;\n",
       "    margin-left: 4px;\n",
       "    line-height: 19px;\n",
       "  }\n",
       "</style>\n",
       "<div class=\"ansiout\"></div>"
      ]
     },
     "metadata": {
      "application/vnd.databricks.v1+output": {
       "addedWidgets": {},
       "arguments": {},
       "data": "<div class=\"ansiout\"></div>",
       "datasetInfos": [],
       "metadata": {},
       "removedWidgets": [],
       "type": "html"
      }
     },
     "output_type": "display_data"
    },
    {
     "output_type": "display_data",
     "data": {
      "text/html": [
       "<style scoped>\n",
       "  .ansiout {\n",
       "    display: block;\n",
       "    unicode-bidi: embed;\n",
       "    white-space: pre-wrap;\n",
       "    word-wrap: break-word;\n",
       "    word-break: break-all;\n",
       "    font-family: \"Menlo\", \"Monaco\", \"Consolas\", \"Ubuntu Mono\", \"Source Code Pro\", monospace;\n",
       "    font-size: 13px;\n",
       "    color: #555;\n",
       "    margin-left: 4px;\n",
       "    line-height: 19px;\n",
       "  }\n",
       "</style>\n",
       "<div class=\"ansiout\"><span class=\"ansi-red-fg\">---------------------------------------------------------------------------</span>\n",
       "<span class=\"ansi-red-fg\">RestException</span>                             Traceback (most recent call last)\n",
       "<span class=\"ansi-green-fg\">&lt;command-2250166117875480&gt;</span> in <span class=\"ansi-cyan-fg\">&lt;module&gt;</span>\n",
       "<span class=\"ansi-green-intense-fg ansi-bold\">      1</span> <span class=\"ansi-green-fg\">import</span> mlflow\n",
       "<span class=\"ansi-green-fg\">----&gt; 2</span><span class=\"ansi-red-fg\"> </span>mlflow<span class=\"ansi-blue-fg\">.</span>start_run<span class=\"ansi-blue-fg\">(</span><span class=\"ansi-blue-fg\">)</span>\n",
       "\n",
       "<span class=\"ansi-green-fg\">/local_disk0/.ephemeral_nfs/envs/pythonEnv-4710ca5e-61b1-4ff5-b75c-626cd70f82fe/lib/python3.8/site-packages/mlflow/tracking/fluent.py</span> in <span class=\"ansi-cyan-fg\">start_run</span><span class=\"ansi-blue-fg\">(run_id, experiment_id, run_name, nested, tags, description, log_system_metrics)</span>\n",
       "<span class=\"ansi-green-intense-fg ansi-bold\">    372</span>         resolved_tags <span class=\"ansi-blue-fg\">=</span> context_registry<span class=\"ansi-blue-fg\">.</span>resolve_tags<span class=\"ansi-blue-fg\">(</span>user_specified_tags<span class=\"ansi-blue-fg\">)</span>\n",
       "<span class=\"ansi-green-intense-fg ansi-bold\">    373</span> \n",
       "<span class=\"ansi-green-fg\">--&gt; 374</span><span class=\"ansi-red-fg\">         active_run_obj = client.create_run(\n",
       "</span><span class=\"ansi-green-intense-fg ansi-bold\">    375</span>             experiment_id<span class=\"ansi-blue-fg\">=</span>exp_id_for_run<span class=\"ansi-blue-fg\">,</span>\n",
       "<span class=\"ansi-green-intense-fg ansi-bold\">    376</span>             tags<span class=\"ansi-blue-fg\">=</span>resolved_tags<span class=\"ansi-blue-fg\">,</span>\n",
       "\n",
       "<span class=\"ansi-green-fg\">/databricks/python_shell/dbruntime/MlflowAutologgingAdvice.py</span> in <span class=\"ansi-cyan-fg\">patched_create_run</span><span class=\"ansi-blue-fg\">(*args, **kwargs)</span>\n",
       "<span class=\"ansi-green-intense-fg ansi-bold\">     77</span>             <span class=\"ansi-blue-fg\">@</span>functools<span class=\"ansi-blue-fg\">.</span>wraps<span class=\"ansi-blue-fg\">(</span>orig_create_run<span class=\"ansi-blue-fg\">)</span>\n",
       "<span class=\"ansi-green-intense-fg ansi-bold\">     78</span>             <span class=\"ansi-green-fg\">def</span> patched_create_run<span class=\"ansi-blue-fg\">(</span><span class=\"ansi-blue-fg\">*</span>args<span class=\"ansi-blue-fg\">,</span> <span class=\"ansi-blue-fg\">**</span>kwargs<span class=\"ansi-blue-fg\">)</span><span class=\"ansi-blue-fg\">:</span>\n",
       "<span class=\"ansi-green-fg\">---&gt; 79</span><span class=\"ansi-red-fg\">                 </span>run <span class=\"ansi-blue-fg\">=</span> orig_create_run<span class=\"ansi-blue-fg\">(</span><span class=\"ansi-blue-fg\">*</span>args<span class=\"ansi-blue-fg\">,</span> <span class=\"ansi-blue-fg\">**</span>kwargs<span class=\"ansi-blue-fg\">)</span>\n",
       "<span class=\"ansi-green-intense-fg ansi-bold\">     80</span> \n",
       "<span class=\"ansi-green-intense-fg ansi-bold\">     81</span>                 <span class=\"ansi-green-fg\">try</span><span class=\"ansi-blue-fg\">:</span>\n",
       "\n",
       "<span class=\"ansi-green-fg\">/databricks/python_shell/dbruntime/MlflowCreateRunHook.py</span> in <span class=\"ansi-cyan-fg\">patched_create_run</span><span class=\"ansi-blue-fg\">(*args, **kwargs)</span>\n",
       "<span class=\"ansi-green-intense-fg ansi-bold\">     33</span> \n",
       "<span class=\"ansi-green-intense-fg ansi-bold\">     34</span>             <span class=\"ansi-green-fg\">def</span> patched_create_run<span class=\"ansi-blue-fg\">(</span><span class=\"ansi-blue-fg\">*</span>args<span class=\"ansi-blue-fg\">,</span> <span class=\"ansi-blue-fg\">**</span>kwargs<span class=\"ansi-blue-fg\">)</span><span class=\"ansi-blue-fg\">:</span>\n",
       "<span class=\"ansi-green-fg\">---&gt; 35</span><span class=\"ansi-red-fg\">                 </span>res <span class=\"ansi-blue-fg\">=</span> orig_create_run<span class=\"ansi-blue-fg\">(</span><span class=\"ansi-blue-fg\">*</span>args<span class=\"ansi-blue-fg\">,</span> <span class=\"ansi-blue-fg\">**</span>kwargs<span class=\"ansi-blue-fg\">)</span>\n",
       "<span class=\"ansi-green-intense-fg ansi-bold\">     36</span>                 <span class=\"ansi-green-fg\">try</span><span class=\"ansi-blue-fg\">:</span>\n",
       "<span class=\"ansi-green-intense-fg ansi-bold\">     37</span>                     self.increment_runs_created(res.info.run_id, res.info.experiment_id,\n",
       "\n",
       "<span class=\"ansi-green-fg\">/local_disk0/.ephemeral_nfs/envs/pythonEnv-4710ca5e-61b1-4ff5-b75c-626cd70f82fe/lib/python3.8/site-packages/mlflow/tracking/client.py</span> in <span class=\"ansi-cyan-fg\">create_run</span><span class=\"ansi-blue-fg\">(self, experiment_id, start_time, tags, run_name)</span>\n",
       "<span class=\"ansi-green-intense-fg ansi-bold\">    337</span>             status<span class=\"ansi-blue-fg\">:</span> RUNNING\n",
       "<span class=\"ansi-green-intense-fg ansi-bold\">    338</span>         &#34;&#34;&#34;\n",
       "<span class=\"ansi-green-fg\">--&gt; 339</span><span class=\"ansi-red-fg\">         </span><span class=\"ansi-green-fg\">return</span> self<span class=\"ansi-blue-fg\">.</span>_tracking_client<span class=\"ansi-blue-fg\">.</span>create_run<span class=\"ansi-blue-fg\">(</span>experiment_id<span class=\"ansi-blue-fg\">,</span> start_time<span class=\"ansi-blue-fg\">,</span> tags<span class=\"ansi-blue-fg\">,</span> run_name<span class=\"ansi-blue-fg\">)</span>\n",
       "<span class=\"ansi-green-intense-fg ansi-bold\">    340</span> \n",
       "<span class=\"ansi-green-intense-fg ansi-bold\">    341</span>     def search_experiments(\n",
       "\n",
       "<span class=\"ansi-green-fg\">/local_disk0/.ephemeral_nfs/envs/pythonEnv-4710ca5e-61b1-4ff5-b75c-626cd70f82fe/lib/python3.8/site-packages/mlflow/tracking/_tracking_service/client.py</span> in <span class=\"ansi-cyan-fg\">create_run</span><span class=\"ansi-blue-fg\">(self, experiment_id, start_time, tags, run_name)</span>\n",
       "<span class=\"ansi-green-intense-fg ansi-bold\">    130</span>         user_id <span class=\"ansi-blue-fg\">=</span> tags<span class=\"ansi-blue-fg\">.</span>get<span class=\"ansi-blue-fg\">(</span>MLFLOW_USER<span class=\"ansi-blue-fg\">,</span> <span class=\"ansi-blue-fg\">&#34;unknown&#34;</span><span class=\"ansi-blue-fg\">)</span>\n",
       "<span class=\"ansi-green-intense-fg ansi-bold\">    131</span> \n",
       "<span class=\"ansi-green-fg\">--&gt; 132</span><span class=\"ansi-red-fg\">         return self.store.create_run(\n",
       "</span><span class=\"ansi-green-intense-fg ansi-bold\">    133</span>             experiment_id<span class=\"ansi-blue-fg\">=</span>experiment_id<span class=\"ansi-blue-fg\">,</span>\n",
       "<span class=\"ansi-green-intense-fg ansi-bold\">    134</span>             user_id<span class=\"ansi-blue-fg\">=</span>user_id<span class=\"ansi-blue-fg\">,</span>\n",
       "\n",
       "<span class=\"ansi-green-fg\">/local_disk0/.ephemeral_nfs/envs/pythonEnv-4710ca5e-61b1-4ff5-b75c-626cd70f82fe/lib/python3.8/site-packages/mlflow/store/tracking/rest_store.py</span> in <span class=\"ansi-cyan-fg\">create_run</span><span class=\"ansi-blue-fg\">(self, experiment_id, user_id, start_time, tags, run_name)</span>\n",
       "<span class=\"ansi-green-intense-fg ansi-bold\">    176</span>             )\n",
       "<span class=\"ansi-green-intense-fg ansi-bold\">    177</span>         )\n",
       "<span class=\"ansi-green-fg\">--&gt; 178</span><span class=\"ansi-red-fg\">         </span>response_proto <span class=\"ansi-blue-fg\">=</span> self<span class=\"ansi-blue-fg\">.</span>_call_endpoint<span class=\"ansi-blue-fg\">(</span>CreateRun<span class=\"ansi-blue-fg\">,</span> req_body<span class=\"ansi-blue-fg\">)</span>\n",
       "<span class=\"ansi-green-intense-fg ansi-bold\">    179</span>         <span class=\"ansi-green-fg\">return</span> Run<span class=\"ansi-blue-fg\">.</span>from_proto<span class=\"ansi-blue-fg\">(</span>response_proto<span class=\"ansi-blue-fg\">.</span>run<span class=\"ansi-blue-fg\">)</span>\n",
       "<span class=\"ansi-green-intense-fg ansi-bold\">    180</span> \n",
       "\n",
       "<span class=\"ansi-green-fg\">/local_disk0/.ephemeral_nfs/envs/pythonEnv-4710ca5e-61b1-4ff5-b75c-626cd70f82fe/lib/python3.8/site-packages/mlflow/store/tracking/rest_store.py</span> in <span class=\"ansi-cyan-fg\">_call_endpoint</span><span class=\"ansi-blue-fg\">(self, api, json_body)</span>\n",
       "<span class=\"ansi-green-intense-fg ansi-bold\">     57</span>         endpoint<span class=\"ansi-blue-fg\">,</span> method <span class=\"ansi-blue-fg\">=</span> _METHOD_TO_INFO<span class=\"ansi-blue-fg\">[</span>api<span class=\"ansi-blue-fg\">]</span>\n",
       "<span class=\"ansi-green-intense-fg ansi-bold\">     58</span>         response_proto <span class=\"ansi-blue-fg\">=</span> api<span class=\"ansi-blue-fg\">.</span>Response<span class=\"ansi-blue-fg\">(</span><span class=\"ansi-blue-fg\">)</span>\n",
       "<span class=\"ansi-green-fg\">---&gt; 59</span><span class=\"ansi-red-fg\">         </span><span class=\"ansi-green-fg\">return</span> call_endpoint<span class=\"ansi-blue-fg\">(</span>self<span class=\"ansi-blue-fg\">.</span>get_host_creds<span class=\"ansi-blue-fg\">(</span><span class=\"ansi-blue-fg\">)</span><span class=\"ansi-blue-fg\">,</span> endpoint<span class=\"ansi-blue-fg\">,</span> method<span class=\"ansi-blue-fg\">,</span> json_body<span class=\"ansi-blue-fg\">,</span> response_proto<span class=\"ansi-blue-fg\">)</span>\n",
       "<span class=\"ansi-green-intense-fg ansi-bold\">     60</span> \n",
       "<span class=\"ansi-green-intense-fg ansi-bold\">     61</span>     def search_experiments(\n",
       "\n",
       "<span class=\"ansi-green-fg\">/local_disk0/.ephemeral_nfs/envs/pythonEnv-4710ca5e-61b1-4ff5-b75c-626cd70f82fe/lib/python3.8/site-packages/mlflow/utils/rest_utils.py</span> in <span class=\"ansi-cyan-fg\">call_endpoint</span><span class=\"ansi-blue-fg\">(host_creds, endpoint, method, json_body, response_proto, extra_headers)</span>\n",
       "<span class=\"ansi-green-intense-fg ansi-bold\">    217</span>         call_kwargs<span class=\"ansi-blue-fg\">[</span><span class=\"ansi-blue-fg\">&#34;json&#34;</span><span class=\"ansi-blue-fg\">]</span> <span class=\"ansi-blue-fg\">=</span> json_body\n",
       "<span class=\"ansi-green-intense-fg ansi-bold\">    218</span>         response <span class=\"ansi-blue-fg\">=</span> http_request<span class=\"ansi-blue-fg\">(</span><span class=\"ansi-blue-fg\">**</span>call_kwargs<span class=\"ansi-blue-fg\">)</span>\n",
       "<span class=\"ansi-green-fg\">--&gt; 219</span><span class=\"ansi-red-fg\">     </span>response <span class=\"ansi-blue-fg\">=</span> verify_rest_response<span class=\"ansi-blue-fg\">(</span>response<span class=\"ansi-blue-fg\">,</span> endpoint<span class=\"ansi-blue-fg\">)</span>\n",
       "<span class=\"ansi-green-intense-fg ansi-bold\">    220</span>     js_dict <span class=\"ansi-blue-fg\">=</span> json<span class=\"ansi-blue-fg\">.</span>loads<span class=\"ansi-blue-fg\">(</span>response<span class=\"ansi-blue-fg\">.</span>text<span class=\"ansi-blue-fg\">)</span>\n",
       "<span class=\"ansi-green-intense-fg ansi-bold\">    221</span>     parse_dict<span class=\"ansi-blue-fg\">(</span>js_dict<span class=\"ansi-blue-fg\">=</span>js_dict<span class=\"ansi-blue-fg\">,</span> message<span class=\"ansi-blue-fg\">=</span>response_proto<span class=\"ansi-blue-fg\">)</span>\n",
       "\n",
       "<span class=\"ansi-green-fg\">/local_disk0/.ephemeral_nfs/envs/pythonEnv-4710ca5e-61b1-4ff5-b75c-626cd70f82fe/lib/python3.8/site-packages/mlflow/utils/rest_utils.py</span> in <span class=\"ansi-cyan-fg\">verify_rest_response</span><span class=\"ansi-blue-fg\">(response, endpoint)</span>\n",
       "<span class=\"ansi-green-intense-fg ansi-bold\">    149</span>     <span class=\"ansi-green-fg\">if</span> response<span class=\"ansi-blue-fg\">.</span>status_code <span class=\"ansi-blue-fg\">!=</span> <span class=\"ansi-cyan-fg\">200</span><span class=\"ansi-blue-fg\">:</span>\n",
       "<span class=\"ansi-green-intense-fg ansi-bold\">    150</span>         <span class=\"ansi-green-fg\">if</span> _can_parse_as_json_object<span class=\"ansi-blue-fg\">(</span>response<span class=\"ansi-blue-fg\">.</span>text<span class=\"ansi-blue-fg\">)</span><span class=\"ansi-blue-fg\">:</span>\n",
       "<span class=\"ansi-green-fg\">--&gt; 151</span><span class=\"ansi-red-fg\">             </span><span class=\"ansi-green-fg\">raise</span> RestException<span class=\"ansi-blue-fg\">(</span>json<span class=\"ansi-blue-fg\">.</span>loads<span class=\"ansi-blue-fg\">(</span>response<span class=\"ansi-blue-fg\">.</span>text<span class=\"ansi-blue-fg\">)</span><span class=\"ansi-blue-fg\">)</span>\n",
       "<span class=\"ansi-green-intense-fg ansi-bold\">    152</span>         <span class=\"ansi-green-fg\">else</span><span class=\"ansi-blue-fg\">:</span>\n",
       "<span class=\"ansi-green-intense-fg ansi-bold\">    153</span>             base_msg = (\n",
       "\n",
       "<span class=\"ansi-red-fg\">RestException</span>: RESOURCE_DOES_NOT_EXIST: No experiment for node 3328864006878425 found. Use the default experiment for a notebook in a repo,\n",
       " or create an MLflow experiment in the workspace.</div>"
      ]
     },
     "metadata": {
      "application/vnd.databricks.v1+output": {
       "arguments": {},
       "data": "<div class=\"ansiout\"><span class=\"ansi-red-fg\">---------------------------------------------------------------------------</span>\n<span class=\"ansi-red-fg\">RestException</span>                             Traceback (most recent call last)\n<span class=\"ansi-green-fg\">&lt;command-2250166117875480&gt;</span> in <span class=\"ansi-cyan-fg\">&lt;module&gt;</span>\n<span class=\"ansi-green-intense-fg ansi-bold\">      1</span> <span class=\"ansi-green-fg\">import</span> mlflow\n<span class=\"ansi-green-fg\">----&gt; 2</span><span class=\"ansi-red-fg\"> </span>mlflow<span class=\"ansi-blue-fg\">.</span>start_run<span class=\"ansi-blue-fg\">(</span><span class=\"ansi-blue-fg\">)</span>\n\n<span class=\"ansi-green-fg\">/local_disk0/.ephemeral_nfs/envs/pythonEnv-4710ca5e-61b1-4ff5-b75c-626cd70f82fe/lib/python3.8/site-packages/mlflow/tracking/fluent.py</span> in <span class=\"ansi-cyan-fg\">start_run</span><span class=\"ansi-blue-fg\">(run_id, experiment_id, run_name, nested, tags, description, log_system_metrics)</span>\n<span class=\"ansi-green-intense-fg ansi-bold\">    372</span>         resolved_tags <span class=\"ansi-blue-fg\">=</span> context_registry<span class=\"ansi-blue-fg\">.</span>resolve_tags<span class=\"ansi-blue-fg\">(</span>user_specified_tags<span class=\"ansi-blue-fg\">)</span>\n<span class=\"ansi-green-intense-fg ansi-bold\">    373</span> \n<span class=\"ansi-green-fg\">--&gt; 374</span><span class=\"ansi-red-fg\">         active_run_obj = client.create_run(\n</span><span class=\"ansi-green-intense-fg ansi-bold\">    375</span>             experiment_id<span class=\"ansi-blue-fg\">=</span>exp_id_for_run<span class=\"ansi-blue-fg\">,</span>\n<span class=\"ansi-green-intense-fg ansi-bold\">    376</span>             tags<span class=\"ansi-blue-fg\">=</span>resolved_tags<span class=\"ansi-blue-fg\">,</span>\n\n<span class=\"ansi-green-fg\">/databricks/python_shell/dbruntime/MlflowAutologgingAdvice.py</span> in <span class=\"ansi-cyan-fg\">patched_create_run</span><span class=\"ansi-blue-fg\">(*args, **kwargs)</span>\n<span class=\"ansi-green-intense-fg ansi-bold\">     77</span>             <span class=\"ansi-blue-fg\">@</span>functools<span class=\"ansi-blue-fg\">.</span>wraps<span class=\"ansi-blue-fg\">(</span>orig_create_run<span class=\"ansi-blue-fg\">)</span>\n<span class=\"ansi-green-intense-fg ansi-bold\">     78</span>             <span class=\"ansi-green-fg\">def</span> patched_create_run<span class=\"ansi-blue-fg\">(</span><span class=\"ansi-blue-fg\">*</span>args<span class=\"ansi-blue-fg\">,</span> <span class=\"ansi-blue-fg\">**</span>kwargs<span class=\"ansi-blue-fg\">)</span><span class=\"ansi-blue-fg\">:</span>\n<span class=\"ansi-green-fg\">---&gt; 79</span><span class=\"ansi-red-fg\">                 </span>run <span class=\"ansi-blue-fg\">=</span> orig_create_run<span class=\"ansi-blue-fg\">(</span><span class=\"ansi-blue-fg\">*</span>args<span class=\"ansi-blue-fg\">,</span> <span class=\"ansi-blue-fg\">**</span>kwargs<span class=\"ansi-blue-fg\">)</span>\n<span class=\"ansi-green-intense-fg ansi-bold\">     80</span> \n<span class=\"ansi-green-intense-fg ansi-bold\">     81</span>                 <span class=\"ansi-green-fg\">try</span><span class=\"ansi-blue-fg\">:</span>\n\n<span class=\"ansi-green-fg\">/databricks/python_shell/dbruntime/MlflowCreateRunHook.py</span> in <span class=\"ansi-cyan-fg\">patched_create_run</span><span class=\"ansi-blue-fg\">(*args, **kwargs)</span>\n<span class=\"ansi-green-intense-fg ansi-bold\">     33</span> \n<span class=\"ansi-green-intense-fg ansi-bold\">     34</span>             <span class=\"ansi-green-fg\">def</span> patched_create_run<span class=\"ansi-blue-fg\">(</span><span class=\"ansi-blue-fg\">*</span>args<span class=\"ansi-blue-fg\">,</span> <span class=\"ansi-blue-fg\">**</span>kwargs<span class=\"ansi-blue-fg\">)</span><span class=\"ansi-blue-fg\">:</span>\n<span class=\"ansi-green-fg\">---&gt; 35</span><span class=\"ansi-red-fg\">                 </span>res <span class=\"ansi-blue-fg\">=</span> orig_create_run<span class=\"ansi-blue-fg\">(</span><span class=\"ansi-blue-fg\">*</span>args<span class=\"ansi-blue-fg\">,</span> <span class=\"ansi-blue-fg\">**</span>kwargs<span class=\"ansi-blue-fg\">)</span>\n<span class=\"ansi-green-intense-fg ansi-bold\">     36</span>                 <span class=\"ansi-green-fg\">try</span><span class=\"ansi-blue-fg\">:</span>\n<span class=\"ansi-green-intense-fg ansi-bold\">     37</span>                     self.increment_runs_created(res.info.run_id, res.info.experiment_id,\n\n<span class=\"ansi-green-fg\">/local_disk0/.ephemeral_nfs/envs/pythonEnv-4710ca5e-61b1-4ff5-b75c-626cd70f82fe/lib/python3.8/site-packages/mlflow/tracking/client.py</span> in <span class=\"ansi-cyan-fg\">create_run</span><span class=\"ansi-blue-fg\">(self, experiment_id, start_time, tags, run_name)</span>\n<span class=\"ansi-green-intense-fg ansi-bold\">    337</span>             status<span class=\"ansi-blue-fg\">:</span> RUNNING\n<span class=\"ansi-green-intense-fg ansi-bold\">    338</span>         &#34;&#34;&#34;\n<span class=\"ansi-green-fg\">--&gt; 339</span><span class=\"ansi-red-fg\">         </span><span class=\"ansi-green-fg\">return</span> self<span class=\"ansi-blue-fg\">.</span>_tracking_client<span class=\"ansi-blue-fg\">.</span>create_run<span class=\"ansi-blue-fg\">(</span>experiment_id<span class=\"ansi-blue-fg\">,</span> start_time<span class=\"ansi-blue-fg\">,</span> tags<span class=\"ansi-blue-fg\">,</span> run_name<span class=\"ansi-blue-fg\">)</span>\n<span class=\"ansi-green-intense-fg ansi-bold\">    340</span> \n<span class=\"ansi-green-intense-fg ansi-bold\">    341</span>     def search_experiments(\n\n<span class=\"ansi-green-fg\">/local_disk0/.ephemeral_nfs/envs/pythonEnv-4710ca5e-61b1-4ff5-b75c-626cd70f82fe/lib/python3.8/site-packages/mlflow/tracking/_tracking_service/client.py</span> in <span class=\"ansi-cyan-fg\">create_run</span><span class=\"ansi-blue-fg\">(self, experiment_id, start_time, tags, run_name)</span>\n<span class=\"ansi-green-intense-fg ansi-bold\">    130</span>         user_id <span class=\"ansi-blue-fg\">=</span> tags<span class=\"ansi-blue-fg\">.</span>get<span class=\"ansi-blue-fg\">(</span>MLFLOW_USER<span class=\"ansi-blue-fg\">,</span> <span class=\"ansi-blue-fg\">&#34;unknown&#34;</span><span class=\"ansi-blue-fg\">)</span>\n<span class=\"ansi-green-intense-fg ansi-bold\">    131</span> \n<span class=\"ansi-green-fg\">--&gt; 132</span><span class=\"ansi-red-fg\">         return self.store.create_run(\n</span><span class=\"ansi-green-intense-fg ansi-bold\">    133</span>             experiment_id<span class=\"ansi-blue-fg\">=</span>experiment_id<span class=\"ansi-blue-fg\">,</span>\n<span class=\"ansi-green-intense-fg ansi-bold\">    134</span>             user_id<span class=\"ansi-blue-fg\">=</span>user_id<span class=\"ansi-blue-fg\">,</span>\n\n<span class=\"ansi-green-fg\">/local_disk0/.ephemeral_nfs/envs/pythonEnv-4710ca5e-61b1-4ff5-b75c-626cd70f82fe/lib/python3.8/site-packages/mlflow/store/tracking/rest_store.py</span> in <span class=\"ansi-cyan-fg\">create_run</span><span class=\"ansi-blue-fg\">(self, experiment_id, user_id, start_time, tags, run_name)</span>\n<span class=\"ansi-green-intense-fg ansi-bold\">    176</span>             )\n<span class=\"ansi-green-intense-fg ansi-bold\">    177</span>         )\n<span class=\"ansi-green-fg\">--&gt; 178</span><span class=\"ansi-red-fg\">         </span>response_proto <span class=\"ansi-blue-fg\">=</span> self<span class=\"ansi-blue-fg\">.</span>_call_endpoint<span class=\"ansi-blue-fg\">(</span>CreateRun<span class=\"ansi-blue-fg\">,</span> req_body<span class=\"ansi-blue-fg\">)</span>\n<span class=\"ansi-green-intense-fg ansi-bold\">    179</span>         <span class=\"ansi-green-fg\">return</span> Run<span class=\"ansi-blue-fg\">.</span>from_proto<span class=\"ansi-blue-fg\">(</span>response_proto<span class=\"ansi-blue-fg\">.</span>run<span class=\"ansi-blue-fg\">)</span>\n<span class=\"ansi-green-intense-fg ansi-bold\">    180</span> \n\n<span class=\"ansi-green-fg\">/local_disk0/.ephemeral_nfs/envs/pythonEnv-4710ca5e-61b1-4ff5-b75c-626cd70f82fe/lib/python3.8/site-packages/mlflow/store/tracking/rest_store.py</span> in <span class=\"ansi-cyan-fg\">_call_endpoint</span><span class=\"ansi-blue-fg\">(self, api, json_body)</span>\n<span class=\"ansi-green-intense-fg ansi-bold\">     57</span>         endpoint<span class=\"ansi-blue-fg\">,</span> method <span class=\"ansi-blue-fg\">=</span> _METHOD_TO_INFO<span class=\"ansi-blue-fg\">[</span>api<span class=\"ansi-blue-fg\">]</span>\n<span class=\"ansi-green-intense-fg ansi-bold\">     58</span>         response_proto <span class=\"ansi-blue-fg\">=</span> api<span class=\"ansi-blue-fg\">.</span>Response<span class=\"ansi-blue-fg\">(</span><span class=\"ansi-blue-fg\">)</span>\n<span class=\"ansi-green-fg\">---&gt; 59</span><span class=\"ansi-red-fg\">         </span><span class=\"ansi-green-fg\">return</span> call_endpoint<span class=\"ansi-blue-fg\">(</span>self<span class=\"ansi-blue-fg\">.</span>get_host_creds<span class=\"ansi-blue-fg\">(</span><span class=\"ansi-blue-fg\">)</span><span class=\"ansi-blue-fg\">,</span> endpoint<span class=\"ansi-blue-fg\">,</span> method<span class=\"ansi-blue-fg\">,</span> json_body<span class=\"ansi-blue-fg\">,</span> response_proto<span class=\"ansi-blue-fg\">)</span>\n<span class=\"ansi-green-intense-fg ansi-bold\">     60</span> \n<span class=\"ansi-green-intense-fg ansi-bold\">     61</span>     def search_experiments(\n\n<span class=\"ansi-green-fg\">/local_disk0/.ephemeral_nfs/envs/pythonEnv-4710ca5e-61b1-4ff5-b75c-626cd70f82fe/lib/python3.8/site-packages/mlflow/utils/rest_utils.py</span> in <span class=\"ansi-cyan-fg\">call_endpoint</span><span class=\"ansi-blue-fg\">(host_creds, endpoint, method, json_body, response_proto, extra_headers)</span>\n<span class=\"ansi-green-intense-fg ansi-bold\">    217</span>         call_kwargs<span class=\"ansi-blue-fg\">[</span><span class=\"ansi-blue-fg\">&#34;json&#34;</span><span class=\"ansi-blue-fg\">]</span> <span class=\"ansi-blue-fg\">=</span> json_body\n<span class=\"ansi-green-intense-fg ansi-bold\">    218</span>         response <span class=\"ansi-blue-fg\">=</span> http_request<span class=\"ansi-blue-fg\">(</span><span class=\"ansi-blue-fg\">**</span>call_kwargs<span class=\"ansi-blue-fg\">)</span>\n<span class=\"ansi-green-fg\">--&gt; 219</span><span class=\"ansi-red-fg\">     </span>response <span class=\"ansi-blue-fg\">=</span> verify_rest_response<span class=\"ansi-blue-fg\">(</span>response<span class=\"ansi-blue-fg\">,</span> endpoint<span class=\"ansi-blue-fg\">)</span>\n<span class=\"ansi-green-intense-fg ansi-bold\">    220</span>     js_dict <span class=\"ansi-blue-fg\">=</span> json<span class=\"ansi-blue-fg\">.</span>loads<span class=\"ansi-blue-fg\">(</span>response<span class=\"ansi-blue-fg\">.</span>text<span class=\"ansi-blue-fg\">)</span>\n<span class=\"ansi-green-intense-fg ansi-bold\">    221</span>     parse_dict<span class=\"ansi-blue-fg\">(</span>js_dict<span class=\"ansi-blue-fg\">=</span>js_dict<span class=\"ansi-blue-fg\">,</span> message<span class=\"ansi-blue-fg\">=</span>response_proto<span class=\"ansi-blue-fg\">)</span>\n\n<span class=\"ansi-green-fg\">/local_disk0/.ephemeral_nfs/envs/pythonEnv-4710ca5e-61b1-4ff5-b75c-626cd70f82fe/lib/python3.8/site-packages/mlflow/utils/rest_utils.py</span> in <span class=\"ansi-cyan-fg\">verify_rest_response</span><span class=\"ansi-blue-fg\">(response, endpoint)</span>\n<span class=\"ansi-green-intense-fg ansi-bold\">    149</span>     <span class=\"ansi-green-fg\">if</span> response<span class=\"ansi-blue-fg\">.</span>status_code <span class=\"ansi-blue-fg\">!=</span> <span class=\"ansi-cyan-fg\">200</span><span class=\"ansi-blue-fg\">:</span>\n<span class=\"ansi-green-intense-fg ansi-bold\">    150</span>         <span class=\"ansi-green-fg\">if</span> _can_parse_as_json_object<span class=\"ansi-blue-fg\">(</span>response<span class=\"ansi-blue-fg\">.</span>text<span class=\"ansi-blue-fg\">)</span><span class=\"ansi-blue-fg\">:</span>\n<span class=\"ansi-green-fg\">--&gt; 151</span><span class=\"ansi-red-fg\">             </span><span class=\"ansi-green-fg\">raise</span> RestException<span class=\"ansi-blue-fg\">(</span>json<span class=\"ansi-blue-fg\">.</span>loads<span class=\"ansi-blue-fg\">(</span>response<span class=\"ansi-blue-fg\">.</span>text<span class=\"ansi-blue-fg\">)</span><span class=\"ansi-blue-fg\">)</span>\n<span class=\"ansi-green-intense-fg ansi-bold\">    152</span>         <span class=\"ansi-green-fg\">else</span><span class=\"ansi-blue-fg\">:</span>\n<span class=\"ansi-green-intense-fg ansi-bold\">    153</span>             base_msg = (\n\n<span class=\"ansi-red-fg\">RestException</span>: RESOURCE_DOES_NOT_EXIST: No experiment for node 3328864006878425 found. Use the default experiment for a notebook in a repo,\n or create an MLflow experiment in the workspace.</div>",
       "errorSummary": "<span class=\"ansi-red-fg\">RestException</span>: RESOURCE_DOES_NOT_EXIST: No experiment for node 3328864006878425 found. Use the default experiment for a notebook in a repo,",
       "errorTraceType": "html",
       "metadata": {},
       "type": "ipynbError"
      }
     },
     "output_type": "display_data"
    }
   ],
   "source": [
    "import mlflow\n",
    "with mlflow.start_run() as run:\n",
    "  mlflow.log_param(\"my\", \"param\")\n",
    "  mlflow.log_metric(\"score\", 100)"
   ]
  },
  {
   "cell_type": "code",
   "execution_count": 0,
   "metadata": {
    "application/vnd.databricks.v1+cell": {
     "cellMetadata": {},
     "inputWidgets": {},
     "nuid": "fa5bacf1-6e47-4eaf-94ac-b199174210e5",
     "showTitle": false,
     "title": ""
    }
   },
   "outputs": [],
   "source": []
  }
 ],
 "metadata": {
  "application/vnd.databricks.v1+notebook": {
   "dashboards": [],
   "language": "python",
   "notebookMetadata": {
    "pythonIndentUnit": 2
   },
   "notebookName": "start_run",
   "widgets": {}
  }
 },
 "nbformat": 4,
 "nbformat_minor": 0
}
