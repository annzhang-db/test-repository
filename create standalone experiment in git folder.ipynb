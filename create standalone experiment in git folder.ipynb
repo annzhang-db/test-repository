{
 "cells": [
  {
   "cell_type": "code",
   "execution_count": 0,
   "metadata": {
    "application/vnd.databricks.v1+cell": {
     "cellMetadata": {
      "byteLimit": 2048000,
      "rowLimit": 10000
     },
     "inputWidgets": {},
     "nuid": "aa9e84cc-0ee7-4ca5-a23b-842eed3c4774",
     "showTitle": false,
     "title": ""
    }
   },
   "outputs": [
    {
     "output_type": "stream",
     "name": "stderr",
     "output_type": "stream",
     "text": [
      "2024/01/20 00:07:35 INFO mlflow.tracking.fluent: Experiment with name '/Workspace/Users/ann.zhang@databricks.com/test-repository/test-experiment' does not exist. Creating a new experiment.\n"
     ]
    },
    {
     "output_type": "display_data",
     "data": {
      "text/plain": [
       "\u001B[0;31m---------------------------------------------------------------------------\u001B[0m\n",
       "\u001B[0;31mRestException\u001B[0m                             Traceback (most recent call last)\n",
       "File \u001B[0;32m<command-2077579385986148>, line 2\u001B[0m\n",
       "\u001B[1;32m      1\u001B[0m \u001B[38;5;28;01mimport\u001B[39;00m \u001B[38;5;21;01mmlflow\u001B[39;00m\n",
       "\u001B[0;32m----> 2\u001B[0m mlflow\u001B[38;5;241m.\u001B[39mset_experiment(\u001B[38;5;124m\"\u001B[39m\u001B[38;5;124m/Workspace/Users/ann.zhang@databricks.com/test-repository/test-experiment\u001B[39m\u001B[38;5;124m\"\u001B[39m)\n",
       "\n",
       "File \u001B[0;32m/databricks/python/lib/python3.11/site-packages/mlflow/tracking/fluent.py:144\u001B[0m, in \u001B[0;36mset_experiment\u001B[0;34m(experiment_name, experiment_id)\u001B[0m\n",
       "\u001B[1;32m    137\u001B[0m         _logger\u001B[38;5;241m.\u001B[39minfo(\n",
       "\u001B[1;32m    138\u001B[0m             \u001B[38;5;124m\"\u001B[39m\u001B[38;5;124mExperiment with name \u001B[39m\u001B[38;5;124m'\u001B[39m\u001B[38;5;132;01m%s\u001B[39;00m\u001B[38;5;124m'\u001B[39m\u001B[38;5;124m does not exist. Creating a new experiment.\u001B[39m\u001B[38;5;124m\"\u001B[39m,\n",
       "\u001B[1;32m    139\u001B[0m             experiment_name,\n",
       "\u001B[1;32m    140\u001B[0m         )\n",
       "\u001B[1;32m    141\u001B[0m         \u001B[38;5;66;03m# NB: If two simultaneous threads or processes attempt to set the same experiment\u001B[39;00m\n",
       "\u001B[1;32m    142\u001B[0m         \u001B[38;5;66;03m# simultaneously, a race condition may be encountered here wherein experiment creation\u001B[39;00m\n",
       "\u001B[1;32m    143\u001B[0m         \u001B[38;5;66;03m# fails\u001B[39;00m\n",
       "\u001B[0;32m--> 144\u001B[0m         experiment_id \u001B[38;5;241m=\u001B[39m client\u001B[38;5;241m.\u001B[39mcreate_experiment(experiment_name)\n",
       "\u001B[1;32m    145\u001B[0m         experiment \u001B[38;5;241m=\u001B[39m client\u001B[38;5;241m.\u001B[39mget_experiment(experiment_id)\n",
       "\u001B[1;32m    146\u001B[0m \u001B[38;5;28;01melse\u001B[39;00m:\n",
       "\n",
       "File \u001B[0;32m/databricks/python/lib/python3.11/site-packages/mlflow/tracking/client.py:570\u001B[0m, in \u001B[0;36mMlflowClient.create_experiment\u001B[0;34m(self, name, artifact_location, tags)\u001B[0m\n",
       "\u001B[1;32m    522\u001B[0m \u001B[38;5;28;01mdef\u001B[39;00m \u001B[38;5;21mcreate_experiment\u001B[39m(\n",
       "\u001B[1;32m    523\u001B[0m     \u001B[38;5;28mself\u001B[39m,\n",
       "\u001B[1;32m    524\u001B[0m     name: \u001B[38;5;28mstr\u001B[39m,\n",
       "\u001B[1;32m    525\u001B[0m     artifact_location: Optional[\u001B[38;5;28mstr\u001B[39m] \u001B[38;5;241m=\u001B[39m \u001B[38;5;28;01mNone\u001B[39;00m,\n",
       "\u001B[1;32m    526\u001B[0m     tags: Optional[Dict[\u001B[38;5;28mstr\u001B[39m, Any]] \u001B[38;5;241m=\u001B[39m \u001B[38;5;28;01mNone\u001B[39;00m,\n",
       "\u001B[1;32m    527\u001B[0m ) \u001B[38;5;241m-\u001B[39m\u001B[38;5;241m>\u001B[39m \u001B[38;5;28mstr\u001B[39m:\n",
       "\u001B[1;32m    528\u001B[0m \u001B[38;5;250m    \u001B[39m\u001B[38;5;124;03m\"\"\"Create an experiment.\u001B[39;00m\n",
       "\u001B[1;32m    529\u001B[0m \n",
       "\u001B[1;32m    530\u001B[0m \u001B[38;5;124;03m    :param name: The experiment name. Must be unique.\u001B[39;00m\n",
       "\u001B[0;32m   (...)\u001B[0m\n",
       "\u001B[1;32m    568\u001B[0m \u001B[38;5;124;03m        Lifecycle_stage: active\u001B[39;00m\n",
       "\u001B[1;32m    569\u001B[0m \u001B[38;5;124;03m    \"\"\"\u001B[39;00m\n",
       "\u001B[0;32m--> 570\u001B[0m     \u001B[38;5;28;01mreturn\u001B[39;00m \u001B[38;5;28mself\u001B[39m\u001B[38;5;241m.\u001B[39m_tracking_client\u001B[38;5;241m.\u001B[39mcreate_experiment(name, artifact_location, tags)\n",
       "\n",
       "File \u001B[0;32m/databricks/python/lib/python3.11/site-packages/mlflow/tracking/_tracking_service/client.py:235\u001B[0m, in \u001B[0;36mTrackingServiceClient.create_experiment\u001B[0;34m(self, name, artifact_location, tags)\u001B[0m\n",
       "\u001B[1;32m    224\u001B[0m \u001B[38;5;250m\u001B[39m\u001B[38;5;124;03m\"\"\"Create an experiment.\u001B[39;00m\n",
       "\u001B[1;32m    225\u001B[0m \n",
       "\u001B[1;32m    226\u001B[0m \u001B[38;5;124;03m:param name: The experiment name. Must be unique.\u001B[39;00m\n",
       "\u001B[0;32m   (...)\u001B[0m\n",
       "\u001B[1;32m    231\u001B[0m \u001B[38;5;124;03m:return: Integer ID of the created experiment.\u001B[39;00m\n",
       "\u001B[1;32m    232\u001B[0m \u001B[38;5;124;03m\"\"\"\u001B[39;00m\n",
       "\u001B[1;32m    233\u001B[0m _validate_experiment_artifact_location(artifact_location)\n",
       "\u001B[0;32m--> 235\u001B[0m \u001B[38;5;28;01mreturn\u001B[39;00m \u001B[38;5;28mself\u001B[39m\u001B[38;5;241m.\u001B[39mstore\u001B[38;5;241m.\u001B[39mcreate_experiment(\n",
       "\u001B[1;32m    236\u001B[0m     name\u001B[38;5;241m=\u001B[39mname,\n",
       "\u001B[1;32m    237\u001B[0m     artifact_location\u001B[38;5;241m=\u001B[39martifact_location,\n",
       "\u001B[1;32m    238\u001B[0m     tags\u001B[38;5;241m=\u001B[39m[ExperimentTag(key, value) \u001B[38;5;28;01mfor\u001B[39;00m (key, value) \u001B[38;5;129;01min\u001B[39;00m tags\u001B[38;5;241m.\u001B[39mitems()] \u001B[38;5;28;01mif\u001B[39;00m tags \u001B[38;5;28;01melse\u001B[39;00m [],\n",
       "\u001B[1;32m    239\u001B[0m )\n",
       "\n",
       "File \u001B[0;32m/databricks/python/lib/python3.11/site-packages/mlflow/store/tracking/rest_store.py:98\u001B[0m, in \u001B[0;36mRestStore.create_experiment\u001B[0;34m(self, name, artifact_location, tags)\u001B[0m\n",
       "\u001B[1;32m     94\u001B[0m tag_protos \u001B[38;5;241m=\u001B[39m [tag\u001B[38;5;241m.\u001B[39mto_proto() \u001B[38;5;28;01mfor\u001B[39;00m tag \u001B[38;5;129;01min\u001B[39;00m tags] \u001B[38;5;28;01mif\u001B[39;00m tags \u001B[38;5;28;01melse\u001B[39;00m []\n",
       "\u001B[1;32m     95\u001B[0m req_body \u001B[38;5;241m=\u001B[39m message_to_json(\n",
       "\u001B[1;32m     96\u001B[0m     CreateExperiment(name\u001B[38;5;241m=\u001B[39mname, artifact_location\u001B[38;5;241m=\u001B[39martifact_location, tags\u001B[38;5;241m=\u001B[39mtag_protos)\n",
       "\u001B[1;32m     97\u001B[0m )\n",
       "\u001B[0;32m---> 98\u001B[0m response_proto \u001B[38;5;241m=\u001B[39m \u001B[38;5;28mself\u001B[39m\u001B[38;5;241m.\u001B[39m_call_endpoint(CreateExperiment, req_body)\n",
       "\u001B[1;32m     99\u001B[0m \u001B[38;5;28;01mreturn\u001B[39;00m response_proto\u001B[38;5;241m.\u001B[39mexperiment_id\n",
       "\n",
       "File \u001B[0;32m/databricks/python/lib/python3.11/site-packages/mlflow/store/tracking/rest_store.py:59\u001B[0m, in \u001B[0;36mRestStore._call_endpoint\u001B[0;34m(self, api, json_body)\u001B[0m\n",
       "\u001B[1;32m     57\u001B[0m endpoint, method \u001B[38;5;241m=\u001B[39m _METHOD_TO_INFO[api]\n",
       "\u001B[1;32m     58\u001B[0m response_proto \u001B[38;5;241m=\u001B[39m api\u001B[38;5;241m.\u001B[39mResponse()\n",
       "\u001B[0;32m---> 59\u001B[0m \u001B[38;5;28;01mreturn\u001B[39;00m call_endpoint(\u001B[38;5;28mself\u001B[39m\u001B[38;5;241m.\u001B[39mget_host_creds(), endpoint, method, json_body, response_proto)\n",
       "\n",
       "File \u001B[0;32m/databricks/python/lib/python3.11/site-packages/mlflow/utils/rest_utils.py:219\u001B[0m, in \u001B[0;36mcall_endpoint\u001B[0;34m(host_creds, endpoint, method, json_body, response_proto, extra_headers)\u001B[0m\n",
       "\u001B[1;32m    217\u001B[0m     call_kwargs[\u001B[38;5;124m\"\u001B[39m\u001B[38;5;124mjson\u001B[39m\u001B[38;5;124m\"\u001B[39m] \u001B[38;5;241m=\u001B[39m json_body\n",
       "\u001B[1;32m    218\u001B[0m     response \u001B[38;5;241m=\u001B[39m http_request(\u001B[38;5;241m*\u001B[39m\u001B[38;5;241m*\u001B[39mcall_kwargs)\n",
       "\u001B[0;32m--> 219\u001B[0m response \u001B[38;5;241m=\u001B[39m verify_rest_response(response, endpoint)\n",
       "\u001B[1;32m    220\u001B[0m js_dict \u001B[38;5;241m=\u001B[39m json\u001B[38;5;241m.\u001B[39mloads(response\u001B[38;5;241m.\u001B[39mtext)\n",
       "\u001B[1;32m    221\u001B[0m parse_dict(js_dict\u001B[38;5;241m=\u001B[39mjs_dict, message\u001B[38;5;241m=\u001B[39mresponse_proto)\n",
       "\n",
       "File \u001B[0;32m/databricks/python/lib/python3.11/site-packages/mlflow/utils/rest_utils.py:151\u001B[0m, in \u001B[0;36mverify_rest_response\u001B[0;34m(response, endpoint)\u001B[0m\n",
       "\u001B[1;32m    149\u001B[0m \u001B[38;5;28;01mif\u001B[39;00m response\u001B[38;5;241m.\u001B[39mstatus_code \u001B[38;5;241m!=\u001B[39m \u001B[38;5;241m200\u001B[39m:\n",
       "\u001B[1;32m    150\u001B[0m     \u001B[38;5;28;01mif\u001B[39;00m _can_parse_as_json_object(response\u001B[38;5;241m.\u001B[39mtext):\n",
       "\u001B[0;32m--> 151\u001B[0m         \u001B[38;5;28;01mraise\u001B[39;00m RestException(json\u001B[38;5;241m.\u001B[39mloads(response\u001B[38;5;241m.\u001B[39mtext))\n",
       "\u001B[1;32m    152\u001B[0m     \u001B[38;5;28;01melse\u001B[39;00m:\n",
       "\u001B[1;32m    153\u001B[0m         base_msg \u001B[38;5;241m=\u001B[39m (\n",
       "\u001B[1;32m    154\u001B[0m             \u001B[38;5;124mf\u001B[39m\u001B[38;5;124m\"\u001B[39m\u001B[38;5;124mAPI request to endpoint \u001B[39m\u001B[38;5;132;01m{\u001B[39;00mendpoint\u001B[38;5;132;01m}\u001B[39;00m\u001B[38;5;124m \u001B[39m\u001B[38;5;124m\"\u001B[39m\n",
       "\u001B[1;32m    155\u001B[0m             \u001B[38;5;124mf\u001B[39m\u001B[38;5;124m\"\u001B[39m\u001B[38;5;124mfailed with error code \u001B[39m\u001B[38;5;132;01m{\u001B[39;00mresponse\u001B[38;5;241m.\u001B[39mstatus_code\u001B[38;5;132;01m}\u001B[39;00m\u001B[38;5;124m != 200\u001B[39m\u001B[38;5;124m\"\u001B[39m\n",
       "\u001B[1;32m    156\u001B[0m         )\n",
       "\n",
       "\u001B[0;31mRestException\u001B[0m: INVALID_PARAMETER_VALUE: MLflow experiment creation is not permitted in a repo. Use the default experiment for a notebook in a repo or create an MLflow experiment in the workspace."
      ]
     },
     "metadata": {
      "application/vnd.databricks.v1+output": {
       "arguments": {},
       "data": "\u001B[0;31m---------------------------------------------------------------------------\u001B[0m\n\u001B[0;31mRestException\u001B[0m                             Traceback (most recent call last)\nFile \u001B[0;32m<command-2077579385986148>, line 2\u001B[0m\n\u001B[1;32m      1\u001B[0m \u001B[38;5;28;01mimport\u001B[39;00m \u001B[38;5;21;01mmlflow\u001B[39;00m\n\u001B[0;32m----> 2\u001B[0m mlflow\u001B[38;5;241m.\u001B[39mset_experiment(\u001B[38;5;124m\"\u001B[39m\u001B[38;5;124m/Workspace/Users/ann.zhang@databricks.com/test-repository/test-experiment\u001B[39m\u001B[38;5;124m\"\u001B[39m)\n\nFile \u001B[0;32m/databricks/python/lib/python3.11/site-packages/mlflow/tracking/fluent.py:144\u001B[0m, in \u001B[0;36mset_experiment\u001B[0;34m(experiment_name, experiment_id)\u001B[0m\n\u001B[1;32m    137\u001B[0m         _logger\u001B[38;5;241m.\u001B[39minfo(\n\u001B[1;32m    138\u001B[0m             \u001B[38;5;124m\"\u001B[39m\u001B[38;5;124mExperiment with name \u001B[39m\u001B[38;5;124m'\u001B[39m\u001B[38;5;132;01m%s\u001B[39;00m\u001B[38;5;124m'\u001B[39m\u001B[38;5;124m does not exist. Creating a new experiment.\u001B[39m\u001B[38;5;124m\"\u001B[39m,\n\u001B[1;32m    139\u001B[0m             experiment_name,\n\u001B[1;32m    140\u001B[0m         )\n\u001B[1;32m    141\u001B[0m         \u001B[38;5;66;03m# NB: If two simultaneous threads or processes attempt to set the same experiment\u001B[39;00m\n\u001B[1;32m    142\u001B[0m         \u001B[38;5;66;03m# simultaneously, a race condition may be encountered here wherein experiment creation\u001B[39;00m\n\u001B[1;32m    143\u001B[0m         \u001B[38;5;66;03m# fails\u001B[39;00m\n\u001B[0;32m--> 144\u001B[0m         experiment_id \u001B[38;5;241m=\u001B[39m client\u001B[38;5;241m.\u001B[39mcreate_experiment(experiment_name)\n\u001B[1;32m    145\u001B[0m         experiment \u001B[38;5;241m=\u001B[39m client\u001B[38;5;241m.\u001B[39mget_experiment(experiment_id)\n\u001B[1;32m    146\u001B[0m \u001B[38;5;28;01melse\u001B[39;00m:\n\nFile \u001B[0;32m/databricks/python/lib/python3.11/site-packages/mlflow/tracking/client.py:570\u001B[0m, in \u001B[0;36mMlflowClient.create_experiment\u001B[0;34m(self, name, artifact_location, tags)\u001B[0m\n\u001B[1;32m    522\u001B[0m \u001B[38;5;28;01mdef\u001B[39;00m \u001B[38;5;21mcreate_experiment\u001B[39m(\n\u001B[1;32m    523\u001B[0m     \u001B[38;5;28mself\u001B[39m,\n\u001B[1;32m    524\u001B[0m     name: \u001B[38;5;28mstr\u001B[39m,\n\u001B[1;32m    525\u001B[0m     artifact_location: Optional[\u001B[38;5;28mstr\u001B[39m] \u001B[38;5;241m=\u001B[39m \u001B[38;5;28;01mNone\u001B[39;00m,\n\u001B[1;32m    526\u001B[0m     tags: Optional[Dict[\u001B[38;5;28mstr\u001B[39m, Any]] \u001B[38;5;241m=\u001B[39m \u001B[38;5;28;01mNone\u001B[39;00m,\n\u001B[1;32m    527\u001B[0m ) \u001B[38;5;241m-\u001B[39m\u001B[38;5;241m>\u001B[39m \u001B[38;5;28mstr\u001B[39m:\n\u001B[1;32m    528\u001B[0m \u001B[38;5;250m    \u001B[39m\u001B[38;5;124;03m\"\"\"Create an experiment.\u001B[39;00m\n\u001B[1;32m    529\u001B[0m \n\u001B[1;32m    530\u001B[0m \u001B[38;5;124;03m    :param name: The experiment name. Must be unique.\u001B[39;00m\n\u001B[0;32m   (...)\u001B[0m\n\u001B[1;32m    568\u001B[0m \u001B[38;5;124;03m        Lifecycle_stage: active\u001B[39;00m\n\u001B[1;32m    569\u001B[0m \u001B[38;5;124;03m    \"\"\"\u001B[39;00m\n\u001B[0;32m--> 570\u001B[0m     \u001B[38;5;28;01mreturn\u001B[39;00m \u001B[38;5;28mself\u001B[39m\u001B[38;5;241m.\u001B[39m_tracking_client\u001B[38;5;241m.\u001B[39mcreate_experiment(name, artifact_location, tags)\n\nFile \u001B[0;32m/databricks/python/lib/python3.11/site-packages/mlflow/tracking/_tracking_service/client.py:235\u001B[0m, in \u001B[0;36mTrackingServiceClient.create_experiment\u001B[0;34m(self, name, artifact_location, tags)\u001B[0m\n\u001B[1;32m    224\u001B[0m \u001B[38;5;250m\u001B[39m\u001B[38;5;124;03m\"\"\"Create an experiment.\u001B[39;00m\n\u001B[1;32m    225\u001B[0m \n\u001B[1;32m    226\u001B[0m \u001B[38;5;124;03m:param name: The experiment name. Must be unique.\u001B[39;00m\n\u001B[0;32m   (...)\u001B[0m\n\u001B[1;32m    231\u001B[0m \u001B[38;5;124;03m:return: Integer ID of the created experiment.\u001B[39;00m\n\u001B[1;32m    232\u001B[0m \u001B[38;5;124;03m\"\"\"\u001B[39;00m\n\u001B[1;32m    233\u001B[0m _validate_experiment_artifact_location(artifact_location)\n\u001B[0;32m--> 235\u001B[0m \u001B[38;5;28;01mreturn\u001B[39;00m \u001B[38;5;28mself\u001B[39m\u001B[38;5;241m.\u001B[39mstore\u001B[38;5;241m.\u001B[39mcreate_experiment(\n\u001B[1;32m    236\u001B[0m     name\u001B[38;5;241m=\u001B[39mname,\n\u001B[1;32m    237\u001B[0m     artifact_location\u001B[38;5;241m=\u001B[39martifact_location,\n\u001B[1;32m    238\u001B[0m     tags\u001B[38;5;241m=\u001B[39m[ExperimentTag(key, value) \u001B[38;5;28;01mfor\u001B[39;00m (key, value) \u001B[38;5;129;01min\u001B[39;00m tags\u001B[38;5;241m.\u001B[39mitems()] \u001B[38;5;28;01mif\u001B[39;00m tags \u001B[38;5;28;01melse\u001B[39;00m [],\n\u001B[1;32m    239\u001B[0m )\n\nFile \u001B[0;32m/databricks/python/lib/python3.11/site-packages/mlflow/store/tracking/rest_store.py:98\u001B[0m, in \u001B[0;36mRestStore.create_experiment\u001B[0;34m(self, name, artifact_location, tags)\u001B[0m\n\u001B[1;32m     94\u001B[0m tag_protos \u001B[38;5;241m=\u001B[39m [tag\u001B[38;5;241m.\u001B[39mto_proto() \u001B[38;5;28;01mfor\u001B[39;00m tag \u001B[38;5;129;01min\u001B[39;00m tags] \u001B[38;5;28;01mif\u001B[39;00m tags \u001B[38;5;28;01melse\u001B[39;00m []\n\u001B[1;32m     95\u001B[0m req_body \u001B[38;5;241m=\u001B[39m message_to_json(\n\u001B[1;32m     96\u001B[0m     CreateExperiment(name\u001B[38;5;241m=\u001B[39mname, artifact_location\u001B[38;5;241m=\u001B[39martifact_location, tags\u001B[38;5;241m=\u001B[39mtag_protos)\n\u001B[1;32m     97\u001B[0m )\n\u001B[0;32m---> 98\u001B[0m response_proto \u001B[38;5;241m=\u001B[39m \u001B[38;5;28mself\u001B[39m\u001B[38;5;241m.\u001B[39m_call_endpoint(CreateExperiment, req_body)\n\u001B[1;32m     99\u001B[0m \u001B[38;5;28;01mreturn\u001B[39;00m response_proto\u001B[38;5;241m.\u001B[39mexperiment_id\n\nFile \u001B[0;32m/databricks/python/lib/python3.11/site-packages/mlflow/store/tracking/rest_store.py:59\u001B[0m, in \u001B[0;36mRestStore._call_endpoint\u001B[0;34m(self, api, json_body)\u001B[0m\n\u001B[1;32m     57\u001B[0m endpoint, method \u001B[38;5;241m=\u001B[39m _METHOD_TO_INFO[api]\n\u001B[1;32m     58\u001B[0m response_proto \u001B[38;5;241m=\u001B[39m api\u001B[38;5;241m.\u001B[39mResponse()\n\u001B[0;32m---> 59\u001B[0m \u001B[38;5;28;01mreturn\u001B[39;00m call_endpoint(\u001B[38;5;28mself\u001B[39m\u001B[38;5;241m.\u001B[39mget_host_creds(), endpoint, method, json_body, response_proto)\n\nFile \u001B[0;32m/databricks/python/lib/python3.11/site-packages/mlflow/utils/rest_utils.py:219\u001B[0m, in \u001B[0;36mcall_endpoint\u001B[0;34m(host_creds, endpoint, method, json_body, response_proto, extra_headers)\u001B[0m\n\u001B[1;32m    217\u001B[0m     call_kwargs[\u001B[38;5;124m\"\u001B[39m\u001B[38;5;124mjson\u001B[39m\u001B[38;5;124m\"\u001B[39m] \u001B[38;5;241m=\u001B[39m json_body\n\u001B[1;32m    218\u001B[0m     response \u001B[38;5;241m=\u001B[39m http_request(\u001B[38;5;241m*\u001B[39m\u001B[38;5;241m*\u001B[39mcall_kwargs)\n\u001B[0;32m--> 219\u001B[0m response \u001B[38;5;241m=\u001B[39m verify_rest_response(response, endpoint)\n\u001B[1;32m    220\u001B[0m js_dict \u001B[38;5;241m=\u001B[39m json\u001B[38;5;241m.\u001B[39mloads(response\u001B[38;5;241m.\u001B[39mtext)\n\u001B[1;32m    221\u001B[0m parse_dict(js_dict\u001B[38;5;241m=\u001B[39mjs_dict, message\u001B[38;5;241m=\u001B[39mresponse_proto)\n\nFile \u001B[0;32m/databricks/python/lib/python3.11/site-packages/mlflow/utils/rest_utils.py:151\u001B[0m, in \u001B[0;36mverify_rest_response\u001B[0;34m(response, endpoint)\u001B[0m\n\u001B[1;32m    149\u001B[0m \u001B[38;5;28;01mif\u001B[39;00m response\u001B[38;5;241m.\u001B[39mstatus_code \u001B[38;5;241m!=\u001B[39m \u001B[38;5;241m200\u001B[39m:\n\u001B[1;32m    150\u001B[0m     \u001B[38;5;28;01mif\u001B[39;00m _can_parse_as_json_object(response\u001B[38;5;241m.\u001B[39mtext):\n\u001B[0;32m--> 151\u001B[0m         \u001B[38;5;28;01mraise\u001B[39;00m RestException(json\u001B[38;5;241m.\u001B[39mloads(response\u001B[38;5;241m.\u001B[39mtext))\n\u001B[1;32m    152\u001B[0m     \u001B[38;5;28;01melse\u001B[39;00m:\n\u001B[1;32m    153\u001B[0m         base_msg \u001B[38;5;241m=\u001B[39m (\n\u001B[1;32m    154\u001B[0m             \u001B[38;5;124mf\u001B[39m\u001B[38;5;124m\"\u001B[39m\u001B[38;5;124mAPI request to endpoint \u001B[39m\u001B[38;5;132;01m{\u001B[39;00mendpoint\u001B[38;5;132;01m}\u001B[39;00m\u001B[38;5;124m \u001B[39m\u001B[38;5;124m\"\u001B[39m\n\u001B[1;32m    155\u001B[0m             \u001B[38;5;124mf\u001B[39m\u001B[38;5;124m\"\u001B[39m\u001B[38;5;124mfailed with error code \u001B[39m\u001B[38;5;132;01m{\u001B[39;00mresponse\u001B[38;5;241m.\u001B[39mstatus_code\u001B[38;5;132;01m}\u001B[39;00m\u001B[38;5;124m != 200\u001B[39m\u001B[38;5;124m\"\u001B[39m\n\u001B[1;32m    156\u001B[0m         )\n\n\u001B[0;31mRestException\u001B[0m: INVALID_PARAMETER_VALUE: MLflow experiment creation is not permitted in a repo. Use the default experiment for a notebook in a repo or create an MLflow experiment in the workspace.",
       "errorSummary": "<span class='ansi-red-fg'>RestException</span>: INVALID_PARAMETER_VALUE: MLflow experiment creation is not permitted in a repo. Use the default experiment for a notebook in a repo or create an MLflow experiment in the workspace.",
       "errorTraceType": "ansi",
       "metadata": {},
       "type": "ipynbError"
      }
     },
     "output_type": "display_data"
    }
   ],
   "source": [
    "import mlflow\n",
    "mlflow.set_experiment(\"/Workspace/Users/ann.zhang@databricks.com/test-repository/test-experiment\")"
   ]
  },
  {
   "cell_type": "code",
   "execution_count": 0,
   "metadata": {
    "application/vnd.databricks.v1+cell": {
     "cellMetadata": {
      "byteLimit": 2048000,
      "rowLimit": 10000
     },
     "inputWidgets": {},
     "nuid": "360bbfb9-841d-427c-b70c-e7d43eb27120",
     "showTitle": false,
     "title": ""
    }
   },
   "outputs": [
    {
     "output_type": "stream",
     "name": "stderr",
     "output_type": "stream",
     "text": [
      "2024/01/20 00:08:38 INFO mlflow.tracking.fluent: Experiment with name '/Workspace/Users/ann.zhang@databricks.com/test-experiment-unique-name' does not exist. Creating a new experiment.\n"
     ]
    },
    {
     "output_type": "execute_result",
     "data": {
      "text/plain": [
       "<Experiment: artifact_location='dbfs:/databricks/mlflow-tracking/2077579385986170', creation_time=1705709318259, experiment_id='2077579385986170', last_update_time=1705709318259, lifecycle_stage='active', name='/Users/ann.zhang@databricks.com/test-experiment-unique-name', tags={'mlflow.experiment.sourceName': '/Users/ann.zhang@databricks.com/test-experiment-unique-name',\n",
       " 'mlflow.experimentType': 'MLFLOW_EXPERIMENT',\n",
       " 'mlflow.ownerEmail': 'ann.zhang@databricks.com',\n",
       " 'mlflow.ownerId': '299811638972008'}>"
      ]
     },
     "execution_count": 3,
     "metadata": {},
     "output_type": "execute_result"
    }
   ],
   "source": [
    "mlflow.set_experiment(\"/Workspace/Users/ann.zhang@databricks.com/test-experiment-unique-name\")"
   ]
  },
  {
   "cell_type": "code",
   "execution_count": 0,
   "metadata": {
    "application/vnd.databricks.v1+cell": {
     "cellMetadata": {},
     "inputWidgets": {},
     "nuid": "363ea403-e925-4c35-a2a8-e3b6b02a3690",
     "showTitle": false,
     "title": ""
    }
   },
   "outputs": [],
   "source": []
  }
 ],
 "metadata": {
  "application/vnd.databricks.v1+notebook": {
   "dashboards": [],
   "language": "python",
   "notebookMetadata": {
    "pythonIndentUnit": 2
   },
   "notebookName": "create standalone experiment in git folder",
   "widgets": {}
  }
 },
 "nbformat": 4,
 "nbformat_minor": 0
}
